{
  "nbformat": 4,
  "nbformat_minor": 0,
  "metadata": {
    "colab": {
      "name": "Untitled2.ipynb",
      "provenance": []
    },
    "kernelspec": {
      "name": "python3",
      "display_name": "Python 3"
    }
  },
  "cells": [
    {
      "cell_type": "code",
      "metadata": {
        "id": "WsocFzYSdUeM",
        "colab_type": "code",
        "colab": {}
      },
      "source": [
        ""
      ],
      "execution_count": 0,
      "outputs": []
    },
    {
      "cell_type": "markdown",
      "metadata": {
        "id": "yOE8hlNddV_C",
        "colab_type": "text"
      },
      "source": [
        "##Práctica 2\n",
        "###Mary José Martínez Castillo\n",
        "\n"
      ]
    },
    {
      "cell_type": "code",
      "metadata": {
        "id": "qdbdPE4_ey5L",
        "colab_type": "code",
        "colab": {}
      },
      "source": [
        "#include<stdio.h>\n",
        "#define FPP 35\n",
        "void TiposDatos();\n",
        "int FuncionTamanoAtributo(int tipo);\n",
        "main()\n",
        "{\n",
        "\tint n=0, i=1, tipo=0, registros=0;\n",
        "\tint tamano_BD=0, tamano_fila=0, tamano_paguina=0;\n",
        "\tprintf(\"~~~~~~~~~~~~~~~~~~~~~~~~~~~~~~~~~~~~~\\n\\n\");\n",
        "\tprintf(\"~~~~~Estimacion de tamanio de BD~~~~~\\n\\n\");\n",
        "\tprintf(\"~~~~~~~~~~~~~~~~~~~~~~~~~~~~~~~~~~~~~\\n\\n\");\n",
        "\tprintf(\"Atributos de la tabla:  \");\n",
        "\tscanf(\"%d\",&n);\n",
        "\tprintf(\"Tamano fila:  \");\n",
        "\tscanf(\"%d\",&tamano_fila);\n",
        "\tsystem(\"cls\");\n",
        "\tTiposDatos();\n",
        "\t\n",
        "\t\n",
        "\twhile(i<=n)\n",
        "\t{\t\n",
        "\t\tdo{\n",
        "\t\tprintf(\"\\nInserta el numero de tipo dato del atributo %d:  \",i);\n",
        "\t\tscanf(\"%d\",&tipo);\n",
        "\t\t}while(tipo<1 || tipo>30);\n",
        "\t\ti++;\t\n",
        "\t}\n",
        "\t\n",
        "\t\n",
        "\tsystem(\"cls\");\n",
        "\tprintf(\"Cuantos registros tendrá tu BD?  \");\n",
        "\tscanf(\"%d\",&registros);\n",
        "\ttamano_paguina=FPP*tamano_fila;\n",
        "\ttamano_BD=(registros)*(tamano_fila);\n",
        "\tsystem(\"cls\");\n",
        "\tprintf(\"\\t\\tDatos finales\\n\\n\");\n",
        "\tprintf(\"\\nTamano fila: %d bytes\",tamano_fila);\n",
        "\tprintf(\"\\nTamano paguina: %d bytes\",tamano_paguina);\n",
        "\tprintf(\"\\nTamano BD: %d bytes\",tamano_BD);\n",
        "\treturn 0;\n",
        "}\n",
        "void TiposDatos()\n",
        "{\n",
        "\t\tprintf(\"~~~~~Tipo de datos~~~~~\\n\\n\");\n",
        "\t\tprintf(\"1.Bit   \\t 2.Tinyint \\t3.Smallint   \\t4.Int \\t5.Bigint\\n\");\n",
        "\t\tprintf(\"6.Decimal \\t 7.Numeric \\t8.Float    \\t 9.Real\\n\");\n",
        "\t\tprintf(\"10.Date \\t 11.Time \\t12.Datetime   \\t13.Timestamp \\t14.Year\\n\");\n",
        "\t\tprintf(\"15.Char \\t 16.Varchar \\t17.Varchar(max) \\t18.Text\\n\");\n",
        "\t\tprintf(\"19.NChar \\t 20.NVarchar \\t21.NVarchar(max) \\t22.NText\\n\");\n",
        "\t\tprintf(\"23.Binary \\t 24.Varbinary \\t25.Varbinary(max) \\t26.Image\");\n",
        "\t\tprintf(\"27.Clob \\t 28.Blob\\t29.XML \\t30.JSON\\n\");\n",
        "}\n",
        "int FuncionTamanoAtributo(int m)\n",
        "{\n",
        "\t\n",
        "\tswitch ( m )\n",
        "   {\n",
        "      case 1 : return 1;\n",
        "               break;\n",
        "      case 2 : return 1;\n",
        "               break;\n",
        "      case 3 : return 1;\n",
        "               break;\n",
        "      case 4 : return 2;\n",
        "               break;\n",
        "      case 5 : return 4;\n",
        "               break;\n",
        "      case 6 : return 4;\n",
        "               break;\n",
        "      case 7 : return 4;\n",
        "               break;\n",
        "      case 8 : return 4;\n",
        "               break;\n",
        "      case 9 : return 6;\n",
        "               break;\n",
        "      case 10 : return 3;\n",
        "               break;\n",
        "    case 11 : return 4;\n",
        "               break;\n",
        "    case 12 : return 3;\n",
        "               break;\n",
        "    case 13 : return 32;\n",
        "               break;\n",
        "    case 14 : return 1;\n",
        "               break;\n",
        "    case 15 : return 1;\n",
        "               break;\n",
        "    case 16 : return 255;\n",
        "               break;\n",
        "    case 17 : return 2147483648;\n",
        "               break;\n",
        "    case 18 : return 1073741824;\n",
        "               break;\n",
        "    case 19 : return 8000;\n",
        "               break;\n",
        "    case 20 : return 2147483648;\n",
        "               break;\n",
        "    case 21 : return 32;\n",
        "               break;\n",
        "    case 22 : return 8192;\n",
        "               break;\n",
        "    case 23 : return 1;\n",
        "               break;\n",
        "    case 24 : return 8192;\n",
        "               break;\n",
        "    case 25 : return 8192;\n",
        "               break;\n",
        "    case 26 : return 2147483648;\n",
        "               break;\n",
        "    case 27 : return 2147483648;\n",
        "               break;\n",
        "    case 28 : return 1073741824;\n",
        "               break;\n",
        "    case 29 : return 64;\n",
        "               break;\n",
        "    case 30 : return 64;\n",
        "               break;\n",
        "    \n",
        "   default : printf( \"\\n   ERROR: opcion incorrecta.\" );\n",
        "   }\n",
        "\t\n",
        "}"
      ],
      "execution_count": 0,
      "outputs": []
    },
    {
      "cell_type": "markdown",
      "metadata": {
        "id": "Whc3pgRje510",
        "colab_type": "text"
      },
      "source": [
        "Carpeta de imágenes de los resultados del programa\n",
        "\"https://drive.google.com/drive/folders/1TGNNTwefBIn6aPMSWcUFmLjl5cU3uagt?usp=sharing\""
      ]
    },
    {
      "cell_type": "code",
      "metadata": {
        "id": "_i1l3z68-E2j",
        "colab_type": "code",
        "colab": {}
      },
      "source": [
        ""
      ],
      "execution_count": 0,
      "outputs": []
    }
  ]
}