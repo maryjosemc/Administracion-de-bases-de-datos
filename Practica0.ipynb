{
  "nbformat": 4,
  "nbformat_minor": 0,
  "metadata": {
    "colab": {
      "name": "Practica0.ipynb",
      "version": "0.3.2",
      "provenance": [],
      "collapsed_sections": []
    },
    "kernelspec": {
      "name": "python2",
      "display_name": "Python 2"
    }
  },
  "cells": [
    {
      "cell_type": "markdown",
      "metadata": {
        "id": "Apx5jXf-XIlf",
        "colab_type": "text"
      },
      "source": [
        "# Título\n",
        "### Subtítulo\n",
        "*italics* and _italics_\n",
        "\n",
        "*Esto en cursiva,* **y esto en negrita,** ***¡y los dos juntos!***\n",
        "\n",
        "_Esto en cursiva,_ __y esto en negrita,__ ___¡y los dos juntos!___\n",
        "\n",
        "Tablas:\n",
        "\n",
        "First column name | Second column name\n",
        "--- | ---\n",
        "Row 1, Col 1 | Row 1, Col 2\n",
        "Row 2, Col 1 | Row 2, Col 2\n",
        "\n",
        "[Un enlace para Wikipedia.](http://es.wikipedia.org/)"
      ]
    }
  ]
}