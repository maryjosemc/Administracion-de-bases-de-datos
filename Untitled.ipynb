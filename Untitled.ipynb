{
 "cells": [
  {
   "cell_type": "markdown",
   "metadata": {},
   "source": [
    "# Práctica 6b: análisis de clustering de partición"
   ]
  },
  {
   "cell_type": "markdown",
   "metadata": {},
   "source": [
    "## Clustering de partición\n",
    "Método de agrupación utilizado para clasificar de manera no supervisada las observaciones, dentro de un conjunto de datos, en múltiples grupos basados en su similitud. Los algoritmos tienen la particularidad de requerir que se especifique el número de clústers que se van a generar:\n",
    "\n",
    "    *K-means (MacQueen, 1967), en el cual, cada cluster está representado por el centro o medio de los puntos de datos pertenecientes al clúster. El método K-means es sensible a los puntos de datos anómalos y a los valores atípicos.\n",
    "    *k-medoides o PAM (Partitioning Around Medoids, Kaufman & Rousseeuw, 1990), en el que cada cluster está representado por uno de los objetos reales del clúster. PAM es menos sensible a los valores atípicos en comparación con los k-medios.\n",
    "    *CLARA (Clustering Large Applications), es una extensión de PAM adaptado para grandes conjuntos de datos.\n"
   ]
  },
  {
   "cell_type": "markdown",
   "metadata": {},
   "source": [
    "Se usarán las siguientes librerías para calcular y visualizar el clustering de particiones:\n",
    "\n",
    "    *stats para calcular K-means\n",
    "    *cluster para ejecutar los algoritmos PAM y CLARA\n",
    "    *factoextra para la visualización de los clusters"
   ]
  },
  {
   "cell_type": "code",
   "execution_count": 1,
   "metadata": {},
   "outputs": [
    {
     "name": "stderr",
     "output_type": "stream",
     "text": [
      "Warning message:\n",
      "\"package 'factoextra' was built under R version 3.6.3\"Loading required package: ggplot2\n",
      "Registered S3 methods overwritten by 'ggplot2':\n",
      "  method         from \n",
      "  [.quosures     rlang\n",
      "  c.quosures     rlang\n",
      "  print.quosures rlang\n",
      "Welcome! Want to learn more? See two factoextra-related books at https://goo.gl/ve3WBa\n"
     ]
    },
    {
     "data": {
      "text/html": [
       "<ol>\n",
       "\t<li><ol class=list-inline>\n",
       "\t<li>'stats'</li>\n",
       "\t<li>'graphics'</li>\n",
       "\t<li>'grDevices'</li>\n",
       "\t<li>'utils'</li>\n",
       "\t<li>'datasets'</li>\n",
       "\t<li>'methods'</li>\n",
       "\t<li>'base'</li>\n",
       "</ol>\n",
       "</li>\n",
       "\t<li><ol class=list-inline>\n",
       "\t<li>'cluster'</li>\n",
       "\t<li>'stats'</li>\n",
       "\t<li>'graphics'</li>\n",
       "\t<li>'grDevices'</li>\n",
       "\t<li>'utils'</li>\n",
       "\t<li>'datasets'</li>\n",
       "\t<li>'methods'</li>\n",
       "\t<li>'base'</li>\n",
       "</ol>\n",
       "</li>\n",
       "\t<li><ol class=list-inline>\n",
       "\t<li>'factoextra'</li>\n",
       "\t<li>'ggplot2'</li>\n",
       "\t<li>'cluster'</li>\n",
       "\t<li>'stats'</li>\n",
       "\t<li>'graphics'</li>\n",
       "\t<li>'grDevices'</li>\n",
       "\t<li>'utils'</li>\n",
       "\t<li>'datasets'</li>\n",
       "\t<li>'methods'</li>\n",
       "\t<li>'base'</li>\n",
       "</ol>\n",
       "</li>\n",
       "</ol>\n"
      ],
      "text/latex": [
       "\\begin{enumerate}\n",
       "\\item \\begin{enumerate*}\n",
       "\\item 'stats'\n",
       "\\item 'graphics'\n",
       "\\item 'grDevices'\n",
       "\\item 'utils'\n",
       "\\item 'datasets'\n",
       "\\item 'methods'\n",
       "\\item 'base'\n",
       "\\end{enumerate*}\n",
       "\n",
       "\\item \\begin{enumerate*}\n",
       "\\item 'cluster'\n",
       "\\item 'stats'\n",
       "\\item 'graphics'\n",
       "\\item 'grDevices'\n",
       "\\item 'utils'\n",
       "\\item 'datasets'\n",
       "\\item 'methods'\n",
       "\\item 'base'\n",
       "\\end{enumerate*}\n",
       "\n",
       "\\item \\begin{enumerate*}\n",
       "\\item 'factoextra'\n",
       "\\item 'ggplot2'\n",
       "\\item 'cluster'\n",
       "\\item 'stats'\n",
       "\\item 'graphics'\n",
       "\\item 'grDevices'\n",
       "\\item 'utils'\n",
       "\\item 'datasets'\n",
       "\\item 'methods'\n",
       "\\item 'base'\n",
       "\\end{enumerate*}\n",
       "\n",
       "\\end{enumerate}\n"
      ],
      "text/markdown": [
       "1. 1. 'stats'\n",
       "2. 'graphics'\n",
       "3. 'grDevices'\n",
       "4. 'utils'\n",
       "5. 'datasets'\n",
       "6. 'methods'\n",
       "7. 'base'\n",
       "\n",
       "\n",
       "\n",
       "2. 1. 'cluster'\n",
       "2. 'stats'\n",
       "3. 'graphics'\n",
       "4. 'grDevices'\n",
       "5. 'utils'\n",
       "6. 'datasets'\n",
       "7. 'methods'\n",
       "8. 'base'\n",
       "\n",
       "\n",
       "\n",
       "3. 1. 'factoextra'\n",
       "2. 'ggplot2'\n",
       "3. 'cluster'\n",
       "4. 'stats'\n",
       "5. 'graphics'\n",
       "6. 'grDevices'\n",
       "7. 'utils'\n",
       "8. 'datasets'\n",
       "9. 'methods'\n",
       "10. 'base'\n",
       "\n",
       "\n",
       "\n",
       "\n",
       "\n"
      ],
      "text/plain": [
       "[[1]]\n",
       "[1] \"stats\"     \"graphics\"  \"grDevices\" \"utils\"     \"datasets\"  \"methods\"  \n",
       "[7] \"base\"     \n",
       "\n",
       "[[2]]\n",
       "[1] \"cluster\"   \"stats\"     \"graphics\"  \"grDevices\" \"utils\"     \"datasets\" \n",
       "[7] \"methods\"   \"base\"     \n",
       "\n",
       "[[3]]\n",
       " [1] \"factoextra\" \"ggplot2\"    \"cluster\"    \"stats\"      \"graphics\"  \n",
       " [6] \"grDevices\"  \"utils\"      \"datasets\"   \"methods\"    \"base\"      \n"
      ]
     },
     "metadata": {},
     "output_type": "display_data"
    }
   ],
   "source": [
    "packages<-c(\"stats\",\"cluster\",\"factoextra\")\n",
    "lapply(packages,library,character.only= TRUE)"
   ]
  },
  {
   "cell_type": "markdown",
   "metadata": {},
   "source": [
    "## Ideas básicas de k-means\n",
    "La idea básica detrás de k-means consiste en definir los clústers de manera que la variación total dentro del cluster (conocida como variación total dentro del cluster) sea minimizada. Hay varios algoritmos de k-means disponibles. El algoritmo estándar es el algoritmo Hartigan-Wong (1979), que define la variación total dentro del cluster como la suma de las distancias cuadradas de las distancias euclidianas entre los objetos y el correspondiente centroide:"
   ]
  },
  {
   "cell_type": "markdown",
   "metadata": {},
   "source": [
    "$$W(Ck)=\\sum_{xi∈Ck} (xi−μk)2$$\n"
   ]
  },
  {
   "cell_type": "markdown",
   "metadata": {},
   "source": [
    "Donde:\n",
    "\n",
    " $x_{i}$ es un objeto perteneciente al cluster  $c_{k}$\n",
    " \n",
    " $m_{k}$ es el valor medio de los objetos agrupados en el clúster $c_{k}$\n"
   ]
  },
  {
   "cell_type": "markdown",
   "metadata": {},
   "source": [
    "Inicialmente cada observación $x_{i}$ se asigna a un grupo dado, de tal forma que la suma de los cuadrados (sum of squares, SS) de la distancia de la observación al centro de su clúster asignado μk es un mínimo. Definimos la variación total dentro del clúster de la siguiente manera:"
   ]
  },
  {
   "cell_type": "markdown",
   "metadata": {},
   "source": [
    "$$total within-cluster SS=\\sum_{k=1}^{k}W(C_k)=\\sum_{k=1}^{k}\\sum_{xi∈Ck}(x_i−μ_k)2$$\n",
    "\n",
    "La suma total de cuadrados dentro del clúster mide la compacidad de los clúster y queremos que sea lo más pequeño posible.\n"
   ]
  },
  {
   "cell_type": "markdown",
   "metadata": {},
   "source": [
    "## k-means\n",
    "   1. Especificar el número k de clústers.\n",
    "   2. Objetos seleccionados al azar del conjunto de datos como los primeros centros de clustersormeans\n",
    "   3. Asigna cada observación a su centroide más cercano, basándose en la distancia euclidiana entre el objeto y el centroide\n",
    "   4. Para cada uno de los k clusters actualizar el centroide del cluster calculando los nuevos valores medios de todos los puntos de datos del cluster. El centroide de un cúmulo Kth es un vector de longitud p que contiene las medias de todas las variables para las observaciones en el cúmulo kth; p es el número de variables.\n",
    "   5. Minimizar iterativamente el total dentro de la suma de los cuadrados. Es decir, iterar los pasos 3 y 4 hasta que las asignaciones del cúmulo dejen de cambiar o se alcance el número máximo de iteraciones. Por defecto, el software R utiliza 10 como valor de propuesta para el número máximo de iteraciones."
   ]
  },
  {
   "cell_type": "code",
   "execution_count": 3,
   "metadata": {},
   "outputs": [
    {
     "data": {
      "text/html": [
       "<table>\n",
       "<thead><tr><th scope=col>ingresos</th><th scope=col>gastos_comunes</th><th scope=col>pago_coche</th><th scope=col>gastos_otros</th><th scope=col>ahorros</th><th scope=col>vivienda</th><th scope=col>estado_civil</th><th scope=col>hijos</th><th scope=col>trabajo</th><th scope=col>comprar</th></tr></thead>\n",
       "<tbody>\n",
       "\t<tr><td>6000  </td><td>1000  </td><td>  0   </td><td>600   </td><td>50000 </td><td>400000</td><td>0     </td><td>2     </td><td>2     </td><td>1     </td></tr>\n",
       "\t<tr><td>6745  </td><td> 944  </td><td>123   </td><td>429   </td><td>43240 </td><td>636897</td><td>1     </td><td>3     </td><td>6     </td><td>0     </td></tr>\n",
       "\t<tr><td>6455  </td><td>1033  </td><td> 98   </td><td>795   </td><td>57463 </td><td>321779</td><td>2     </td><td>1     </td><td>8     </td><td>1     </td></tr>\n",
       "\t<tr><td>7098  </td><td>1278  </td><td> 15   </td><td>254   </td><td>54506 </td><td>660933</td><td>0     </td><td>0     </td><td>3     </td><td>0     </td></tr>\n",
       "\t<tr><td>6167  </td><td> 863  </td><td>223   </td><td>520   </td><td>41512 </td><td>348932</td><td>0     </td><td>0     </td><td>3     </td><td>1     </td></tr>\n",
       "</tbody>\n",
       "</table>\n"
      ],
      "text/latex": [
       "\\begin{tabular}{r|llllllllll}\n",
       " ingresos & gastos\\_comunes & pago\\_coche & gastos\\_otros & ahorros & vivienda & estado\\_civil & hijos & trabajo & comprar\\\\\n",
       "\\hline\n",
       "\t 6000   & 1000   &   0    & 600    & 50000  & 400000 & 0      & 2      & 2      & 1     \\\\\n",
       "\t 6745   &  944   & 123    & 429    & 43240  & 636897 & 1      & 3      & 6      & 0     \\\\\n",
       "\t 6455   & 1033   &  98    & 795    & 57463  & 321779 & 2      & 1      & 8      & 1     \\\\\n",
       "\t 7098   & 1278   &  15    & 254    & 54506  & 660933 & 0      & 0      & 3      & 0     \\\\\n",
       "\t 6167   &  863   & 223    & 520    & 41512  & 348932 & 0      & 0      & 3      & 1     \\\\\n",
       "\\end{tabular}\n"
      ],
      "text/markdown": [
       "\n",
       "| ingresos | gastos_comunes | pago_coche | gastos_otros | ahorros | vivienda | estado_civil | hijos | trabajo | comprar |\n",
       "|---|---|---|---|---|---|---|---|---|---|\n",
       "| 6000   | 1000   |   0    | 600    | 50000  | 400000 | 0      | 2      | 2      | 1      |\n",
       "| 6745   |  944   | 123    | 429    | 43240  | 636897 | 1      | 3      | 6      | 0      |\n",
       "| 6455   | 1033   |  98    | 795    | 57463  | 321779 | 2      | 1      | 8      | 1      |\n",
       "| 7098   | 1278   |  15    | 254    | 54506  | 660933 | 0      | 0      | 3      | 0      |\n",
       "| 6167   |  863   | 223    | 520    | 41512  | 348932 | 0      | 0      | 3      | 1      |\n",
       "\n"
      ],
      "text/plain": [
       "  ingresos gastos_comunes pago_coche gastos_otros ahorros vivienda estado_civil\n",
       "1 6000     1000             0        600          50000   400000   0           \n",
       "2 6745      944           123        429          43240   636897   1           \n",
       "3 6455     1033            98        795          57463   321779   2           \n",
       "4 7098     1278            15        254          54506   660933   0           \n",
       "5 6167      863           223        520          41512   348932   0           \n",
       "  hijos trabajo comprar\n",
       "1 2     2       1      \n",
       "2 3     6       0      \n",
       "3 1     8       1      \n",
       "4 0     3       0      \n",
       "5 0     3       1      "
      ]
     },
     "metadata": {},
     "output_type": "display_data"
    }
   ],
   "source": [
    "# Cargamos dataset\n",
    "df <- read.csv(\"comprar_alquilar.csv\")\n",
    "#vemos las primeras 5 filas\n",
    "head(df,n=5)"
   ]
  },
  {
   "cell_type": "code",
   "execution_count": 4,
   "metadata": {},
   "outputs": [
    {
     "data": {
      "text/plain": [
       "K-means clustering with 3 clusters of sizes 73, 41, 88\n",
       "\n",
       "Cluster means:\n",
       "  ingresos gastos_comunes pago_coche gastos_otros  ahorros vivienda\n",
       "1 5251.753       993.0548   202.4932     518.3836 40556.70 384912.8\n",
       "2 6478.146      1043.0488   194.5610     490.0488 55669.27 602517.2\n",
       "3 4008.352       920.4773   227.4205     524.7955 29367.66 256986.2\n",
       "  estado_civil     hijos  trabajo    comprar\n",
       "1    0.9041096 1.2054795 4.287671 0.46575342\n",
       "2    0.9512195 0.9512195 3.585366 0.09756098\n",
       "3    1.1590909 1.3863636 5.079545 0.32954545\n",
       "\n",
       "Clustering vector:\n",
       "  [1] 1 2 1 2 1 1 1 2 3 1 2 1 2 1 2 3 1 2 2 3 1 2 2 3 1 1 1 2 1 3 1 2 2 2 1 1 1\n",
       " [38] 1 3 2 2 1 2 2 2 3 3 1 1 2 3 3 3 3 3 3 3 3 1 1 3 1 1 3 1 3 3 3 3 3 3 3 3 3\n",
       " [75] 1 3 3 3 1 3 1 3 3 1 3 3 3 3 3 3 1 3 3 3 1 3 3 1 1 3 1 1 2 1 1 2 2 3 2 1 1\n",
       "[112] 2 1 1 3 2 1 3 2 2 2 1 1 2 1 1 2 3 3 1 3 1 2 1 2 1 2 1 3 2 1 1 3 1 2 2 2 1\n",
       "[149] 2 2 2 3 3 3 1 1 1 1 3 3 3 1 3 1 1 3 3 3 3 3 1 3 3 3 1 3 1 3 3 3 3 1 3 3 3\n",
       "[186] 3 3 3 1 3 3 3 1 3 3 3 3 1 3 1 1 3\n",
       "\n",
       "Within cluster sum of squares by cluster:\n",
       "[1] 158125038912 108708039491 157956358390\n",
       " (between_SS / total_SS =  88.8 %)\n",
       "\n",
       "Available components:\n",
       "\n",
       "[1] \"cluster\"      \"centers\"      \"totss\"        \"withinss\"     \"tot.withinss\"\n",
       "[6] \"betweenss\"    \"size\"         \"iter\"         \"ifault\"      "
      ]
     },
     "metadata": {},
     "output_type": "display_data"
    }
   ],
   "source": [
    "#Hacemos los clusters con kmeans()\n",
    "kmeans(df,3,iter.max=10,nstart = 1)"
   ]
  },
  {
   "cell_type": "markdown",
   "metadata": {},
   "source": [
    "## Determinando el número óptimo de clústers\n",
    "¿Cuál es el número óptimo de clústers en un conjunto de datos? Desafortunadamente, no hay una respuesta definitiva a esta pregunta. El número óptimo de clústers es de alguna manera subjetivo y depende del método utilizado para medir las similitudes y los parámetros utilizados para la partición.\n",
    "\n",
    "Estos métodos incluyen métodos directos y métodos de pruebas estadísticas:\n",
    "\n",
    "        1. Métodos directos: consisten en optimizar algún criterio, como las sumas de cuadrados dentro del clúster, métodos de codo (elbow), o o la silueta media, silueta media (average silhouette).\n",
    "         "
   ]
  },
  {
   "cell_type": "markdown",
   "metadata": {},
   "source": [
    "![](elbow.png)"
   ]
  },
  {
   "cell_type": "markdown",
   "metadata": {},
   "source": [
    "    1. Métodos de prueba estadística: consiste en comparar la evidencia con la hipótesis nula. Un ejemplo es gap statistic."
   ]
  },
  {
   "cell_type": "markdown",
   "metadata": {},
   "source": [
    "Además del codo, la silueta y los métodos estadísticos, hay más de treinta otros índices y métodos que han sido publicados para identificar el número óptimo de clústers usando la \"regla de la mayoría\"."
   ]
  },
  {
   "cell_type": "code",
   "execution_count": 5,
   "metadata": {},
   "outputs": [
    {
     "data": {
      "text/html": [
       "<table>\n",
       "<thead><tr><th scope=col>ingresos</th><th scope=col>gastos_comunes</th><th scope=col>pago_coche</th><th scope=col>gastos_otros</th><th scope=col>ahorros</th><th scope=col>vivienda</th><th scope=col>estado_civil</th><th scope=col>hijos</th><th scope=col>trabajo</th><th scope=col>comprar</th></tr></thead>\n",
       "<tbody>\n",
       "\t<tr><td>0.6185918  </td><td> 0.1044292 </td><td>-1.69474384</td><td> 0.50310952</td><td>0.6478653  </td><td> 0.19542468</td><td>-1.22404711</td><td> 0.5609799 </td><td>-0.9819801 </td><td> 1.4159627 </td></tr>\n",
       "\t<tr><td>1.0612899  </td><td>-0.1013727 </td><td>-0.71027724</td><td>-0.51412351</td><td>0.2585817  </td><td> 1.93256884</td><td>-0.02956636</td><td> 1.2920633 </td><td> 0.5954353 </td><td>-0.7027371 </td></tr>\n",
       "\t<tr><td>0.8889644  </td><td> 0.2257053 </td><td>-0.91037208</td><td> 1.66311210</td><td>1.0776321  </td><td>-0.37816280</td><td> 1.16491440</td><td>-0.1701036 </td><td> 1.3841430 </td><td> 1.4159627 </td></tr>\n",
       "\t<tr><td>1.2710515  </td><td> 1.1260885 </td><td>-1.57468694</td><td>-1.55515146</td><td>0.9073493  </td><td> 2.10882265</td><td>-1.22404711</td><td>-0.9011870 </td><td>-0.5876263 </td><td>-0.7027371 </td></tr>\n",
       "\t<tr><td>0.7178275  </td><td>-0.3990504 </td><td> 0.09010211</td><td> 0.02721103</td><td>0.1590725  </td><td>-0.17905232</td><td>-1.22404711</td><td>-0.9011870 </td><td>-0.5876263 </td><td> 1.4159627 </td></tr>\n",
       "\t<tr><td>0.4355703  </td><td>-0.2226488 </td><td>-1.60670211</td><td>-1.13279155</td><td>0.6982534  </td><td>-0.09156339</td><td>-0.02956636</td><td> 2.0231467 </td><td> 0.2010814 </td><td> 1.4159627 </td></tr>\n",
       "</tbody>\n",
       "</table>\n"
      ],
      "text/latex": [
       "\\begin{tabular}{llllllllll}\n",
       " ingresos & gastos\\_comunes & pago\\_coche & gastos\\_otros & ahorros & vivienda & estado\\_civil & hijos & trabajo & comprar\\\\\n",
       "\\hline\n",
       "\t 0.6185918   &  0.1044292  & -1.69474384 &  0.50310952 & 0.6478653   &  0.19542468 & -1.22404711 &  0.5609799  & -0.9819801  &  1.4159627 \\\\\n",
       "\t 1.0612899   & -0.1013727  & -0.71027724 & -0.51412351 & 0.2585817   &  1.93256884 & -0.02956636 &  1.2920633  &  0.5954353  & -0.7027371 \\\\\n",
       "\t 0.8889644   &  0.2257053  & -0.91037208 &  1.66311210 & 1.0776321   & -0.37816280 &  1.16491440 & -0.1701036  &  1.3841430  &  1.4159627 \\\\\n",
       "\t 1.2710515   &  1.1260885  & -1.57468694 & -1.55515146 & 0.9073493   &  2.10882265 & -1.22404711 & -0.9011870  & -0.5876263  & -0.7027371 \\\\\n",
       "\t 0.7178275   & -0.3990504  &  0.09010211 &  0.02721103 & 0.1590725   & -0.17905232 & -1.22404711 & -0.9011870  & -0.5876263  &  1.4159627 \\\\\n",
       "\t 0.4355703   & -0.2226488  & -1.60670211 & -1.13279155 & 0.6982534   & -0.09156339 & -0.02956636 &  2.0231467  &  0.2010814  &  1.4159627 \\\\\n",
       "\\end{tabular}\n"
      ],
      "text/markdown": [
       "\n",
       "| ingresos | gastos_comunes | pago_coche | gastos_otros | ahorros | vivienda | estado_civil | hijos | trabajo | comprar |\n",
       "|---|---|---|---|---|---|---|---|---|---|\n",
       "| 0.6185918   |  0.1044292  | -1.69474384 |  0.50310952 | 0.6478653   |  0.19542468 | -1.22404711 |  0.5609799  | -0.9819801  |  1.4159627  |\n",
       "| 1.0612899   | -0.1013727  | -0.71027724 | -0.51412351 | 0.2585817   |  1.93256884 | -0.02956636 |  1.2920633  |  0.5954353  | -0.7027371  |\n",
       "| 0.8889644   |  0.2257053  | -0.91037208 |  1.66311210 | 1.0776321   | -0.37816280 |  1.16491440 | -0.1701036  |  1.3841430  |  1.4159627  |\n",
       "| 1.2710515   |  1.1260885  | -1.57468694 | -1.55515146 | 0.9073493   |  2.10882265 | -1.22404711 | -0.9011870  | -0.5876263  | -0.7027371  |\n",
       "| 0.7178275   | -0.3990504  |  0.09010211 |  0.02721103 | 0.1590725   | -0.17905232 | -1.22404711 | -0.9011870  | -0.5876263  |  1.4159627  |\n",
       "| 0.4355703   | -0.2226488  | -1.60670211 | -1.13279155 | 0.6982534   | -0.09156339 | -0.02956636 |  2.0231467  |  0.2010814  |  1.4159627  |\n",
       "\n"
      ],
      "text/plain": [
       "     ingresos  gastos_comunes pago_coche  gastos_otros ahorros   vivienda   \n",
       "[1,] 0.6185918  0.1044292     -1.69474384  0.50310952  0.6478653  0.19542468\n",
       "[2,] 1.0612899 -0.1013727     -0.71027724 -0.51412351  0.2585817  1.93256884\n",
       "[3,] 0.8889644  0.2257053     -0.91037208  1.66311210  1.0776321 -0.37816280\n",
       "[4,] 1.2710515  1.1260885     -1.57468694 -1.55515146  0.9073493  2.10882265\n",
       "[5,] 0.7178275 -0.3990504      0.09010211  0.02721103  0.1590725 -0.17905232\n",
       "[6,] 0.4355703 -0.2226488     -1.60670211 -1.13279155  0.6982534 -0.09156339\n",
       "     estado_civil hijos      trabajo    comprar   \n",
       "[1,] -1.22404711   0.5609799 -0.9819801  1.4159627\n",
       "[2,] -0.02956636   1.2920633  0.5954353 -0.7027371\n",
       "[3,]  1.16491440  -0.1701036  1.3841430  1.4159627\n",
       "[4,] -1.22404711  -0.9011870 -0.5876263 -0.7027371\n",
       "[5,] -1.22404711  -0.9011870 -0.5876263  1.4159627\n",
       "[6,] -0.02956636   2.0231467  0.2010814  1.4159627"
      ]
     },
     "metadata": {},
     "output_type": "display_data"
    }
   ],
   "source": [
    "#Estandarizamos los datos\n",
    "df <- scale(df)\n",
    "head(df)"
   ]
  },
  {
   "cell_type": "code",
   "execution_count": 6,
   "metadata": {},
   "outputs": [],
   "source": [
    "#Eliminamos valores faltantes\n",
    "df <- na.omit(df)"
   ]
  },
  {
   "cell_type": "markdown",
   "metadata": {},
   "source": [
    "### fviz_nbclust\n",
    "#### Determinación Y Visualización Del Número Óptimo De Clústeres\n",
    "Los métodos de partición, como la agrupación de k-means requieren que los usuarios especifiquen el número de agrupaciones que se generarán.\n",
    "\n",
    "fviz_nbclust (): Determina y visualiza el número óptimo de clústeres usando diferentes métodos: dentro de sumas de cuadrados de clúster , estadísticas promedio de silueta y brecha ."
   ]
  },
  {
   "cell_type": "code",
   "execution_count": 10,
   "metadata": {},
   "outputs": [
    {
     "name": "stderr",
     "output_type": "stream",
     "text": [
      "Warning message:\n",
      "\"package 'factoextra' was built under R version 3.6.3\"Loading required package: ggplot2\n",
      "Registered S3 methods overwritten by 'ggplot2':\n",
      "  method         from \n",
      "  [.quosures     rlang\n",
      "  c.quosures     rlang\n",
      "  print.quosures rlang\n",
      "Welcome! Want to learn more? See two factoextra-related books at https://goo.gl/ve3WBa\n"
     ]
    },
    {
     "data": {
      "image/png": "[encoded data removed]",
      "text/plain": [
       "plot without title"
      ]
     },
     "metadata": {},
     "output_type": "display_data"
    }
   ],
   "source": [
    "#Elbow mehod\n",
    "library(factoextra)\n",
    "fviz_nbclust(df,kmeans,method =\"wss\")+ geom_vline(xintercept= 4,linetype=2)+ labs(subtitle=\"Elbow method\")"
   ]
  },
  {
   "cell_type": "code",
   "execution_count": 20,
   "metadata": {},
   "outputs": [
    {
     "data": {
      "image/png": "[encoded data removed]",
      "text/plain": [
       "plot without title"
      ]
     },
     "metadata": {},
     "output_type": "display_data"
    }
   ],
   "source": [
    "#Silhouette method\n",
    "fviz_nbclust(df,kmeans,method=\"silhouette\")+labs(subtitle=\"Silhouette method\")"
   ]
  },
  {
   "cell_type": "markdown",
   "metadata": {},
   "source": [
    "## La \"regla de la mayoría\"\n",
    "\n",
    "En R existe la librería NbClust() donde a través de 30 índices distintos, podemos elegir el número óptimo de clústers dentro de un conjunto de datos si proponemos una votación con estos índices. La función NbClust() como tal es una heurística y admite los siguientes parámetros:\n",
    "\n",
    "**NbClust(data, diss, distance, min.nc, max.nc, method)**\n",
    "\n",
    "Donde:\n",
    "\n",
    "  * data: es una matriz de datos\n",
    "  * diss: es una matriz de disimilaridad a utilizar. Por defecto, diss=NULL, pero si es reemplazado por una matriz de disimilaridad, la distancia debe ser NULL (nula)\n",
    "  * distance: la medida de distancia que se utilizará para calcular la matriz de disimilitudes. Los valores posibles son euclidean, manhattan o NULL.\n",
    "  * min.nc, max.nc: número mínimo y máximo de clústers, respectivamente\n",
    "  * method: El método de análisis de clustering que se utilizará, incluyendo ward.D, ward.D2, single, complete, average, kmeans, entre otros."
   ]
  },
  {
   "cell_type": "code",
   "execution_count": 26,
   "metadata": {},
   "outputs": [
    {
     "ename": "ERROR",
     "evalue": "Error in intsall.packages(NbClust): no se pudo encontrar la función \"intsall.packages\"\n",
     "output_type": "error",
     "traceback": [
      "Error in intsall.packages(NbClust): no se pudo encontrar la función \"intsall.packages\"\nTraceback:\n"
     ]
    }
   ],
   "source": [
    "intsall.packages(NbClust)\n",
    "library(\"NbClust\")\n",
    "nb <- NbClust(df, distance = \"euclidean\", min.nc = 2, max.nc = 10, method = \"kmeans\")"
   ]
  },
  {
   "cell_type": "code",
   "execution_count": null,
   "metadata": {},
   "outputs": [],
   "source": []
  },
  {
   "cell_type": "code",
   "execution_count": null,
   "metadata": {},
   "outputs": [],
   "source": []
  }
 ],
 "metadata": {
  "kernelspec": {
   "display_name": "R",
   "language": "R",
   "name": "ir"
  },
  "language_info": {
   "codemirror_mode": "r",
   "file_extension": ".r",
   "mimetype": "text/x-r-source",
   "name": "R",
   "pygments_lexer": "r",
   "version": "3.6.1"
  }
 },
 "nbformat": 4,
 "nbformat_minor": 4
}
