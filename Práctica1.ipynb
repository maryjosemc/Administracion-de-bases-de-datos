{
  "nbformat": 4,
  "nbformat_minor": 0,
  "metadata": {
    "colab": {
      "name": "Untitled",
      "provenance": []
    },
    "kernelspec": {
      "name": "python3",
      "display_name": "Python 3"
    }
  },
  "cells": [
    {
      "cell_type": "code",
      "metadata": {
        "id": "T4dH2pRSGRof",
        "colab_type": "code",
        "colab": {}
      },
      "source": [
        ""
      ],
      "execution_count": 0,
      "outputs": []
    },
    {
      "cell_type": "markdown",
      "metadata": {
        "id": "-vCUyzYQGSq5",
        "colab_type": "text"
      },
      "source": [
        "## Práctica 1\n",
        "### Mary José Martínez Castillo\n",
        "\n",
        "Las API permiten que sus productos y servicios se comuniquen con otros, sin necesidad de saber cómo están implementados. Esto simplifica el desarrollo de las aplicaciones y permite ahorrar tiempo y dinero. Las API le otorgan flexibilidad; simplifican el diseño, la administración y el uso de las aplicaciones, y proporcionan oportunidades de innovación, lo cual es ideal al momento de diseñar herramientas y productos nuevos (o de gestionar los actuales).\n",
        "\n",
        "<figure>\n",
        "<center>\n",
        "<img src=\"https://drive.google.com/file/d/1-jJnZ_1kEEb3AQ8QLVyfsb1WdlP-MuEl/view\">\n",
        "<figcaption>Imágen de API funcionando</figcaption></center>\n",
        "</figure>\n",
        "\n",
        "<figure>\n",
        "<center>\n",
        "<img src=\"htps://drive.google.com/file/d/1ZyXr8jeBkNhpBUTOU7wBbLfy07kcLhXe/view?usp=sharing\">\n",
        "<figcaption>Imágen de API funcionando</figcaption></center>\n",
        "</figure>\n",
        "\n",
        "\n",
        "\n",
        "Imágen de API funcionando:\n",
        "(https://drive.google.com/file/d/1-jJnZ_1kEEb3AQ8QLVyfsb1WdlP-MuEl/view)\n",
        "\n",
        "Imágen de peticiones y recursos dados por el servidor:\n",
        "(https://drive.google.com/file/d/1ZyXr8jeBkNhpBUTOU7wBbLfy07kcLhXe/view)\n",
        "\n",
        "\n",
        "\n",
        "\n",
        "\n"
      ]
    }
  ]
}
