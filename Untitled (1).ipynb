{
 "cells": [
  {
   "cell_type": "markdown",
   "metadata": {},
   "source": [
    "# Práctica 6c: estadísticas de validación de clústers"
   ]
  },
  {
   "cell_type": "markdown",
   "metadata": {},
   "source": [
    "El término validación de clústers se utiliza para diseñar la evaluación de los resultados de los algoritmos de clustering. Este paso es importante para evitar encontrar patrones en un dato aleatorio, así como comparar dos algoritmos de clustering. En general, las estadísticas de validación de agrupaciones pueden clasificarse en 3 clases:\n",
    "\n",
    "   1. **Validación interna**, utiliza la información interna del proceso de agrupación para evaluar la estructura del clustering sin referencia a la información externa (variable label/class/target).\n",
    "   2. **Validación externa**, que consiste en comparar los resultados de un análisis de clúster con un resultado conocido externamente, como las etiquetas de clase proporcionadas externamente. Mide hasta qué punto las etiquetas de clúster coinciden con las etiquetas de clase suministradas externamente. Dado que conocemos el \"verdadero\" número de clúster por adelantado, este enfoque se utiliza principalmente para seleccionar el algoritmo de clúster adecuado para un conjunto de datos específico.\n",
    "   3. **Validación relativa**, a través de una heruística evalúa la estructura de los clústers variando los valores de los diferentes parámetros para el mismo algoritmo (por ejemplo, variando el número de clústers k). Generalmente se usa para determinar el número óptimo de clusters.\n"
   ]
  },
  {
   "cell_type": "markdown",
   "metadata": {},
   "source": [
    "## Medidas internas para la validación de clústers\n",
    "Recordando que el objetivo de los algoritmos de clustering de partición (k-means por ejemplo) es dividir el conjunto de datos en clústers de objetos, de tal manera que:\n",
    "\n",
    "   * Los objetos del mismo clúster sean lo más similares posible.\n",
    "   * Los objetos entre clústeres diferentes sean muy distintos\n",
    "   \n",
    "Las medidas de validación interna reflejan a menudo la compacidad, la conexión y la separación de las particiones del clúster:\n",
    "\n",
    "   * Compactación o cohesión, mide cuán cerca están los objetos dentro del mismo clúster. Una menor variación dentro del clúster es un indicador de una buena compactación (es decir, una buena agrupación). Los diferentes índices para evaluar la compacidad de los clústers se basan en medidas de distancia, como las distancias medias entre observaciones.\n",
    "   * Separación, mide cuán bien separado está un clúster de otros clústers. Los índices utilizados como medidas de separación incluyen:\n",
    "        - distancias entre los centros de los clústers\n",
    "        - las distancias mínimas por pares entre los objetos de los distintos clústers\n",
    "   * Conectividad, corresponde a la medida en que los elementos se colocan en el mismo clúster que sus vecinos más cercanos en el espacio de datos. La conectividad tiene un valor entre 0 e infinito y debe ser minimizada."
   ]
  },
  {
   "cell_type": "markdown",
   "metadata": {},
   "source": [
    "Generalmente, la mayoría de los índices utilizados para la validación interna de los clústers combinan medidas de compactación y separación como se indica a continuación:\n",
    "\n",
    "$$ index=α×separaciónβ×compactación$$\n",
    "\n",
    "Donde α y β son pesos."
   ]
  },
  {
   "cell_type": "markdown",
   "metadata": {},
   "source": [
    "## Índice de Dunn\n",
    "\n",
    "El índice de Dunn es una medida de validación interna de clustering que se puede calcular de la siguiente manera:\n",
    "\n",
    "   1. Para cada clúster, calcule la distancia entre cada uno de los objetos del clúster y los objetos de los otros clústers.\n",
    "   2. Use el mínimo de esta distancia entre pares como la separación entre clústers (separación mínima)\n",
    "   3. Para cada clúster, calcule la distancia entre los objetos del mismo clúster.\n",
    "   4. Utilice la máxima distancia intra-cluster (el diámetro máximo) como la compactación intra-cluster\n",
    "   5. Calcule el índice de Dunn (D) de la siguiente manera:\n",
    "   \n",
    "$$D=\\frac{separación mínima}{diámetro máximo}=\\frac{min d_{inter−cluster}}{max d_{intra−cluster}}$$"
   ]
  },
  {
   "cell_type": "code",
   "execution_count": 2,
   "metadata": {},
   "outputs": [],
   "source": [
    "# Cargamos dataset\n",
    "df <- read.csv(\"comprar_alquilar.csv\")"
   ]
  },
  {
   "cell_type": "code",
   "execution_count": 4,
   "metadata": {},
   "outputs": [
    {
     "ename": "ERROR",
     "evalue": "Error in library(clusterCrit): there is no package called 'clusterCrit'\n",
     "output_type": "error",
     "traceback": [
      "Error in library(clusterCrit): there is no package called 'clusterCrit'\nTraceback:\n",
      "1. library(clusterCrit)"
     ]
    }
   ],
   "source": [
    "library(factoextra) \n",
    "library(clusterCrit)"
   ]
  },
  {
   "cell_type": "code",
   "execution_count": 5,
   "metadata": {},
   "outputs": [],
   "source": [
    "# Estandarizamos\n",
    "df <- scale(df)"
   ]
  }
 ],
 "metadata": {
  "kernelspec": {
   "display_name": "R",
   "language": "R",
   "name": "ir"
  },
  "language_info": {
   "codemirror_mode": "r",
   "file_extension": ".r",
   "mimetype": "text/x-r-source",
   "name": "R",
   "pygments_lexer": "r",
   "version": "3.6.1"
  }
 },
 "nbformat": 4,
 "nbformat_minor": 4
}
